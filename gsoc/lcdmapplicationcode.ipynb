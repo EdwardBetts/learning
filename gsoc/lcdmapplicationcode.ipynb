{
 "metadata": {
  "name": "lcdmapplicationcode.ipynb"
 },
 "nbformat": 3,
 "nbformat_minor": 0,
 "worksheets": [
  {
   "cells": [
    {
     "cell_type": "heading",
     "level": 1,
     "metadata": {},
     "source": [
      "GSoC 2014 - Code Problem, for Prof. Brunner (lcdm)"
     ]
    },
    {
     "cell_type": "markdown",
     "metadata": {},
     "source": [
      "Start with astropy. \n",
      "Import, and load data provided in a specific format."
     ]
    },
    {
     "cell_type": "code",
     "collapsed": false,
     "input": [
      "from astropy.io import fits\n",
      "f = fits.open(\"C:/Users/debajyoti/Downloads/M86.fits/M86.fits\")\n",
      "print f.info()"
     ],
     "language": "python",
     "metadata": {},
     "outputs": [
      {
       "output_type": "stream",
       "stream": "stdout",
       "text": [
        "Filename: C:/Users/debajyoti/Downloads/M86.fits/M86.fits\n",
        "No.    Name         Type      Cards   Dimensions   Format\n",
        "0    PRIMARY     PrimaryHDU      57   (313, 313)   int16   \n"
       ]
      },
      {
       "output_type": "stream",
       "stream": "stdout",
       "text": [
        "None\n"
       ]
      }
     ],
     "prompt_number": 15
    },
    {
     "cell_type": "markdown",
     "metadata": {},
     "source": [
      "Convert to ndarray"
     ]
    },
    {
     "cell_type": "code",
     "collapsed": true,
     "input": [
      "scidata = f[0].data"
     ],
     "language": "python",
     "metadata": {},
     "outputs": [],
     "prompt_number": 16
    },
    {
     "cell_type": "markdown",
     "metadata": {},
     "source": [
      "Compute the mean, standard deviation and maximum, and decide a threshold 'val' based on that."
     ]
    },
    {
     "cell_type": "code",
     "collapsed": false,
     "input": [
      "m = scidata.mean()\n",
      "s = scidata.std()\n",
      "mx = scidata.max()\n",
      "val = m+0.5*(s)"
     ],
     "language": "python",
     "metadata": {},
     "outputs": [],
     "prompt_number": 17
    },
    {
     "cell_type": "markdown",
     "metadata": {},
     "source": [
      "Apply thresholding for noise removal. \n",
      "A copy is made to avoid the need for loading the data from file everytime and for ease of debugging."
     ]
    },
    {
     "cell_type": "code",
     "collapsed": false,
     "input": [
      "imdata = scidata\n",
      "imdata[imdata < val] = 0"
     ],
     "language": "python",
     "metadata": {},
     "outputs": [],
     "prompt_number": 18
    },
    {
     "cell_type": "markdown",
     "metadata": {},
     "source": [
      "Compute the axis-wise variance and use that to find out the illumination values along principal axes. Since spread is symmetrical about the origin of light, it is realitively easy if we trim all zero values from front and back and take the edge values."
     ]
    },
    {
     "cell_type": "code",
     "collapsed": false,
     "input": [
      "varX = imdata.var(axis=0, dtype = int32)\n",
      "varY = imdata.var(axis=1, dtype = int32)\n",
      "kX = np.trim_zeros(varX)\n",
      "kY = np.trim_zeros(varY)\n",
      "\n",
      "xv1 = varX[varX.size - np.trim_zeros(varX, 'f').size]\n",
      "xv2 = varX[np.trim_zeros(varX, 'b').size -1]\n",
      "\n",
      "yv1 = varY[varY.size - np.trim_zeros(varY, 'f').size]\n",
      "yv2 = varY[np.trim_zeros(varY, 'b').size -1]\n",
      "\n",
      "(s1,s2) = imdata.shape"
     ],
     "language": "python",
     "metadata": {},
     "outputs": [],
     "prompt_number": 30
    },
    {
     "cell_type": "markdown",
     "metadata": {},
     "source": [
      "Write output in 'FITS' format. Not sure if needed."
     ]
    },
    {
     "cell_type": "code",
     "collapsed": false,
     "input": [
      "fits.writeto(\"C:/Users/debajyoti/Downloads/M86.fits/out.fits\",imdata);"
     ],
     "language": "python",
     "metadata": {},
     "outputs": [],
     "prompt_number": 20
    },
    {
     "cell_type": "markdown",
     "metadata": {},
     "source": [
      "Find location(indices) of maxima, and for the  illumination values retrieved above. Range/Dimension information is available from above."
     ]
    },
    {
     "cell_type": "code",
     "collapsed": false,
     "input": [
      "for i in range(0,s1):\n",
      "    for j in range(0,s2):\n",
      "        if (imdata[i,j] == mx):\n",
      "            (y,x)= (i,j)\n",
      "    if (varX[i] == xv1):\n",
      "        dx1 = i\n",
      "    if (varX[i] == xv2):\n",
      "        dx2 = i\n",
      "    if (varY[i] == yv1):\n",
      "        dy1 = i\n",
      "    if (varY[i] == yv2):\n",
      "        dy2 = i\n",
      "print (dx1,dx2,dy1,dy2)"
     ],
     "language": "python",
     "metadata": {},
     "outputs": [
      {
       "output_type": "stream",
       "stream": "stdout",
       "text": [
        "(69, 176, 109, 204)\n"
       ]
      }
     ],
     "prompt_number": 32
    },
    {
     "cell_type": "markdown",
     "metadata": {},
     "source": [
      "Plot the modified image in grayscale, and apply patches to the Centre, and along the axes."
     ]
    },
    {
     "cell_type": "code",
     "collapsed": false,
     "input": [
      "#matplotlib.colors.Normalize(log,clip=True) #not sure why needed\n",
      "\n",
      "#plot image\n",
      "plt.axis([0,300,0,300])\n",
      "plt.imshow(imdata,cmap='gray')\n",
      "\n",
      "#mark center in blue cross\n",
      "plt.plot(x,y,'bx')\n",
      "\n",
      "#mark the axes in white, dashed lines\n",
      "dx = [dx2,dx1]\n",
      "dy = [dy1,dy2]\n",
      "dxx= [dx1,dx2]\n",
      "dyy= [dy1,dy2] #redundant, but makes it easier to understand\n",
      "plt.plot(dx,dy,'w--')\n",
      "plt.plot(dxx,dyy,'w--')\n",
      "\n",
      "#save output\n",
      "plt.savefig(\"C:/Users/debajyoti/Downloads/M86.fits/outFin.png\")"
     ],
     "language": "python",
     "metadata": {},
     "outputs": [
      {
       "metadata": {},
       "output_type": "display_data",
       "png": "[encoded data removed]",
       "text": [
        "<matplotlib.figure.Figure at 0x5c209d0>"
       ]
      }
     ],
     "prompt_number": 109
    },
    {
     "cell_type": "code",
     "collapsed": false,
     "input": [],
     "language": "python",
     "metadata": {},
     "outputs": []
    }
   ],
   "metadata": {}
  }
 ]
}